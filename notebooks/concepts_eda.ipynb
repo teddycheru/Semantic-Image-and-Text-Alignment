{
 "cells": [
  {
   "cell_type": "markdown",
   "metadata": {},
   "source": [
    "# Exploratory Data Analysis on Concepts Data"
   ]
  },
  {
   "cell_type": "markdown",
   "metadata": {},
   "source": [
    "## Importing necessary libraries"
   ]
  },
  {
   "cell_type": "code",
   "execution_count": 1,
   "metadata": {},
   "outputs": [],
   "source": [
    "import pandas as pd\n",
    "import matplotlib.pyplot as plt"
   ]
  },
  {
   "cell_type": "markdown",
   "metadata": {},
   "source": [
    "## Read concepts data"
   ]
  },
  {
   "cell_type": "code",
   "execution_count": 2,
   "metadata": {},
   "outputs": [],
   "source": [
    "df = pd.read_json('/home/tewodros_cheru/concepts.json')"
   ]
  },
  {
   "cell_type": "markdown",
   "metadata": {},
   "source": [
    "## Description"
   ]
  },
  {
   "cell_type": "code",
   "execution_count": 3,
   "metadata": {},
   "outputs": [
    {
     "data": {
      "text/html": [
       "<div>\n",
       "<style scoped>\n",
       "    .dataframe tbody tr th:only-of-type {\n",
       "        vertical-align: middle;\n",
       "    }\n",
       "\n",
       "    .dataframe tbody tr th {\n",
       "        vertical-align: top;\n",
       "    }\n",
       "\n",
       "    .dataframe thead th {\n",
       "        text-align: right;\n",
       "    }\n",
       "</style>\n",
       "<table border=\"1\" class=\"dataframe\">\n",
       "  <thead>\n",
       "    <tr style=\"text-align: right;\">\n",
       "      <th></th>\n",
       "      <th>concept</th>\n",
       "      <th>implementation</th>\n",
       "      <th>explanation</th>\n",
       "      <th>asset_suggestions</th>\n",
       "    </tr>\n",
       "  </thead>\n",
       "  <tbody>\n",
       "    <tr>\n",
       "      <th>count</th>\n",
       "      <td>115</td>\n",
       "      <td>115</td>\n",
       "      <td>115</td>\n",
       "      <td>115</td>\n",
       "    </tr>\n",
       "    <tr>\n",
       "      <th>unique</th>\n",
       "      <td>99</td>\n",
       "      <td>111</td>\n",
       "      <td>103</td>\n",
       "      <td>103</td>\n",
       "    </tr>\n",
       "    <tr>\n",
       "      <th>top</th>\n",
       "      <td>The ad begins with a captivating image of the ...</td>\n",
       "      <td>{'frame_1': {'description': 'The ad opens with...</td>\n",
       "      <td>This concept aligns with Adludio's brand ident...</td>\n",
       "      <td>[{'frame_1': {'Background Animation': 'A suspe...</td>\n",
       "    </tr>\n",
       "    <tr>\n",
       "      <th>freq</th>\n",
       "      <td>5</td>\n",
       "      <td>5</td>\n",
       "      <td>5</td>\n",
       "      <td>13</td>\n",
       "    </tr>\n",
       "  </tbody>\n",
       "</table>\n",
       "</div>"
      ],
      "text/plain": [
       "                                                  concept  \\\n",
       "count                                                 115   \n",
       "unique                                                 99   \n",
       "top     The ad begins with a captivating image of the ...   \n",
       "freq                                                    5   \n",
       "\n",
       "                                           implementation  \\\n",
       "count                                                 115   \n",
       "unique                                                111   \n",
       "top     {'frame_1': {'description': 'The ad opens with...   \n",
       "freq                                                    5   \n",
       "\n",
       "                                              explanation  \\\n",
       "count                                                 115   \n",
       "unique                                                103   \n",
       "top     This concept aligns with Adludio's brand ident...   \n",
       "freq                                                    5   \n",
       "\n",
       "                                        asset_suggestions  \n",
       "count                                                 115  \n",
       "unique                                                103  \n",
       "top     [{'frame_1': {'Background Animation': 'A suspe...  \n",
       "freq                                                   13  "
      ]
     },
     "execution_count": 3,
     "metadata": {},
     "output_type": "execute_result"
    }
   ],
   "source": [
    "df.describe()"
   ]
  },
  {
   "cell_type": "markdown",
   "metadata": {},
   "source": [
    "## Printing rows"
   ]
  },
  {
   "cell_type": "code",
   "execution_count": 4,
   "metadata": {},
   "outputs": [
    {
     "data": {
      "text/html": [
       "<div>\n",
       "<style scoped>\n",
       "    .dataframe tbody tr th:only-of-type {\n",
       "        vertical-align: middle;\n",
       "    }\n",
       "\n",
       "    .dataframe tbody tr th {\n",
       "        vertical-align: top;\n",
       "    }\n",
       "\n",
       "    .dataframe thead th {\n",
       "        text-align: right;\n",
       "    }\n",
       "</style>\n",
       "<table border=\"1\" class=\"dataframe\">\n",
       "  <thead>\n",
       "    <tr style=\"text-align: right;\">\n",
       "      <th></th>\n",
       "      <th>concept</th>\n",
       "      <th>implementation</th>\n",
       "      <th>explanation</th>\n",
       "      <th>asset_suggestions</th>\n",
       "    </tr>\n",
       "  </thead>\n",
       "  <tbody>\n",
       "    <tr>\n",
       "      <th>0</th>\n",
       "      <td>Escape Challenge Teaser</td>\n",
       "      <td>{'frame_1': {'description': 'The ad begins wit...</td>\n",
       "      <td>This concept aligns with LEGO CITY's brand ide...</td>\n",
       "      <td>[{'frame_1': {'Background Animation': 'A suspe...</td>\n",
       "    </tr>\n",
       "    <tr>\n",
       "      <th>1</th>\n",
       "      <td>Interactive Storytelling</td>\n",
       "      <td>{'frame_1': {'description': 'The ad opens with...</td>\n",
       "      <td>This concept aligns with LEGO CITY's brand ide...</td>\n",
       "      <td>[{'frame_1': {'Background Animation': 'A suspe...</td>\n",
       "    </tr>\n",
       "    <tr>\n",
       "      <th>2</th>\n",
       "      <td>City Tour</td>\n",
       "      <td>{'frame_1': {'description': 'The ad begins wit...</td>\n",
       "      <td>This concept aligns with LEGO CITY's brand ide...</td>\n",
       "      <td>[{'frame_1': {'Background Animation': 'A suspe...</td>\n",
       "    </tr>\n",
       "    <tr>\n",
       "      <th>3</th>\n",
       "      <td>Interactive Globe Journey</td>\n",
       "      <td>{'frame_1': {'description': 'The ad opens with...</td>\n",
       "      <td>This concept aligns with the brand's identity ...</td>\n",
       "      <td>[{'frame_1': {'3D Globe': 'A high-definition 3...</td>\n",
       "    </tr>\n",
       "    <tr>\n",
       "      <th>4</th>\n",
       "      <td>Cultural Carousel</td>\n",
       "      <td>{'frame_1': {'description': 'A carousel of cul...</td>\n",
       "      <td>This concept leverages the brand's diverse por...</td>\n",
       "      <td>[{'frame_1': {'Background Image': 'A high-reso...</td>\n",
       "    </tr>\n",
       "    <tr>\n",
       "      <th>...</th>\n",
       "      <td>...</td>\n",
       "      <td>...</td>\n",
       "      <td>...</td>\n",
       "      <td>...</td>\n",
       "    </tr>\n",
       "    <tr>\n",
       "      <th>110</th>\n",
       "      <td>The second concept is a virtual gaming experie...</td>\n",
       "      <td>{'frame_1': {'description': 'The first frame p...</td>\n",
       "      <td>This concept aligns with the brand's purpose o...</td>\n",
       "      <td>[{'frame_1': {'Background Image': 'A high-reso...</td>\n",
       "    </tr>\n",
       "    <tr>\n",
       "      <th>111</th>\n",
       "      <td>The third concept is a virtual tour of the Ste...</td>\n",
       "      <td>{'frame_1': {'description': 'The first frame p...</td>\n",
       "      <td>This concept aligns with the brand's identity ...</td>\n",
       "      <td>[{'frame_1': {'Product Image': 'A high-resolut...</td>\n",
       "    </tr>\n",
       "    <tr>\n",
       "      <th>112</th>\n",
       "      <td>The fifth concept is a virtual test drive. The...</td>\n",
       "      <td>{'frame_1': {'description': 'The first frame p...</td>\n",
       "      <td>This concept aligns with the brand's purpose o...</td>\n",
       "      <td>[{'frame_1': {'Background Image': 'A high-reso...</td>\n",
       "    </tr>\n",
       "    <tr>\n",
       "      <th>113</th>\n",
       "      <td>The Silver Challenge</td>\n",
       "      <td>{'frame_1': {'description': 'The ad begins wit...</td>\n",
       "      <td>The concept aligns with the brand's identity a...</td>\n",
       "      <td>[{'frame_1': {'Background': 'A dark, mysteriou...</td>\n",
       "    </tr>\n",
       "    <tr>\n",
       "      <th>114</th>\n",
       "      <td>The Silver Journey</td>\n",
       "      <td>{'frame_1': {'description': 'The ad starts wit...</td>\n",
       "      <td>The concept aligns with the brand's identity a...</td>\n",
       "      <td>[{'frame_1': {'Background': 'A dark, star-stud...</td>\n",
       "    </tr>\n",
       "  </tbody>\n",
       "</table>\n",
       "<p>115 rows × 4 columns</p>\n",
       "</div>"
      ],
      "text/plain": [
       "                                               concept  \\\n",
       "0                              Escape Challenge Teaser   \n",
       "1                             Interactive Storytelling   \n",
       "2                                            City Tour   \n",
       "3                            Interactive Globe Journey   \n",
       "4                                    Cultural Carousel   \n",
       "..                                                 ...   \n",
       "110  The second concept is a virtual gaming experie...   \n",
       "111  The third concept is a virtual tour of the Ste...   \n",
       "112  The fifth concept is a virtual test drive. The...   \n",
       "113                               The Silver Challenge   \n",
       "114                                 The Silver Journey   \n",
       "\n",
       "                                        implementation  \\\n",
       "0    {'frame_1': {'description': 'The ad begins wit...   \n",
       "1    {'frame_1': {'description': 'The ad opens with...   \n",
       "2    {'frame_1': {'description': 'The ad begins wit...   \n",
       "3    {'frame_1': {'description': 'The ad opens with...   \n",
       "4    {'frame_1': {'description': 'A carousel of cul...   \n",
       "..                                                 ...   \n",
       "110  {'frame_1': {'description': 'The first frame p...   \n",
       "111  {'frame_1': {'description': 'The first frame p...   \n",
       "112  {'frame_1': {'description': 'The first frame p...   \n",
       "113  {'frame_1': {'description': 'The ad begins wit...   \n",
       "114  {'frame_1': {'description': 'The ad starts wit...   \n",
       "\n",
       "                                           explanation  \\\n",
       "0    This concept aligns with LEGO CITY's brand ide...   \n",
       "1    This concept aligns with LEGO CITY's brand ide...   \n",
       "2    This concept aligns with LEGO CITY's brand ide...   \n",
       "3    This concept aligns with the brand's identity ...   \n",
       "4    This concept leverages the brand's diverse por...   \n",
       "..                                                 ...   \n",
       "110  This concept aligns with the brand's purpose o...   \n",
       "111  This concept aligns with the brand's identity ...   \n",
       "112  This concept aligns with the brand's purpose o...   \n",
       "113  The concept aligns with the brand's identity a...   \n",
       "114  The concept aligns with the brand's identity a...   \n",
       "\n",
       "                                     asset_suggestions  \n",
       "0    [{'frame_1': {'Background Animation': 'A suspe...  \n",
       "1    [{'frame_1': {'Background Animation': 'A suspe...  \n",
       "2    [{'frame_1': {'Background Animation': 'A suspe...  \n",
       "3    [{'frame_1': {'3D Globe': 'A high-definition 3...  \n",
       "4    [{'frame_1': {'Background Image': 'A high-reso...  \n",
       "..                                                 ...  \n",
       "110  [{'frame_1': {'Background Image': 'A high-reso...  \n",
       "111  [{'frame_1': {'Product Image': 'A high-resolut...  \n",
       "112  [{'frame_1': {'Background Image': 'A high-reso...  \n",
       "113  [{'frame_1': {'Background': 'A dark, mysteriou...  \n",
       "114  [{'frame_1': {'Background': 'A dark, star-stud...  \n",
       "\n",
       "[115 rows x 4 columns]"
      ]
     },
     "execution_count": 4,
     "metadata": {},
     "output_type": "execute_result"
    }
   ],
   "source": [
    "df"
   ]
  },
  {
   "cell_type": "markdown",
   "metadata": {},
   "source": [
    "## Printing implementation of the first row "
   ]
  },
  {
   "cell_type": "code",
   "execution_count": 6,
   "metadata": {},
   "outputs": [
    {
     "data": {
      "text/plain": [
       "{'frame_1': {'description': \"The ad begins with a suspenseful animation of a LEGO CITY set, with the tagline 'YOUR CITY, NO LIMITS' and a countdown timer.\",\n",
       "  'interaction_type': 'Tap',\n",
       "  'next_frame': 'frame_2',\n",
       "  'duration': '5 seconds'},\n",
       " 'frame_2': {'description': \"The scene transitions to a series of quick, exciting clips showcasing various challenges in the 'ULTIMATE ESCAPE CHALLENGE'.\",\n",
       "  'interaction_type': 'Swipe',\n",
       "  'next_frame': 'frame_3',\n",
       "  'duration': '10 seconds'},\n",
       " 'frame_3': {'description': \"The final frame reveals the LEGO CITY 2024 logo and a 'Play Now' button, inviting users to join the challenge on the LEGO website.\",\n",
       "  'interaction_type': 'Tap',\n",
       "  'next_frame': 'end-of-advertisement',\n",
       "  'duration': '5 seconds'}}"
      ]
     },
     "execution_count": 6,
     "metadata": {},
     "output_type": "execute_result"
    }
   ],
   "source": [
    "df['implementation'][0]"
   ]
  },
  {
   "cell_type": "markdown",
   "metadata": {},
   "source": [
    "## Interaction types"
   ]
  },
  {
   "cell_type": "code",
   "execution_count": 13,
   "metadata": {},
   "outputs": [],
   "source": [
    "interaction_types = set()\n",
    "\n",
    "for implementation in df['implementation']:\n",
    "    for frame in implementation:\n",
    "        if 'interaction_type' in implementation[frame]:\n",
    "            if implementation[frame]['interaction_type']:\n",
    "                interaction_types.add(implementation[frame]['interaction_type'])"
   ]
  },
  {
   "cell_type": "markdown",
   "metadata": {},
   "source": [
    "### Printing interaction types"
   ]
  },
  {
   "cell_type": "code",
   "execution_count": 14,
   "metadata": {},
   "outputs": [
    {
     "data": {
      "text/plain": [
       "{'Choice Selection', 'Drag and Drop', 'None', 'Swipe', 'Tap', 'Tap and Hold'}"
      ]
     },
     "execution_count": 14,
     "metadata": {},
     "output_type": "execute_result"
    }
   ],
   "source": [
    "interaction_types"
   ]
  },
  {
   "cell_type": "markdown",
   "metadata": {},
   "source": [
    "## Printing explanation of teh first row"
   ]
  },
  {
   "cell_type": "code",
   "execution_count": 5,
   "metadata": {},
   "outputs": [
    {
     "data": {
      "text/plain": [
       "\"This concept aligns with LEGO CITY's brand identity of providing fun and entertainment. It appeals to the target demographic's interest in games and challenges, and it achieves the campaign's objectives of enhancing audience engagement, increasing product and brand awareness, and driving traffic to the brand's website. The concept is scalable and can be adapted for various platforms and audiences. It can be executed within the given budget constraints.\""
      ]
     },
     "execution_count": 5,
     "metadata": {},
     "output_type": "execute_result"
    }
   ],
   "source": [
    "df['explanation'][0]"
   ]
  },
  {
   "cell_type": "markdown",
   "metadata": {},
   "source": [
    "## printing asset suggestion of the first row"
   ]
  },
  {
   "cell_type": "code",
   "execution_count": 6,
   "metadata": {},
   "outputs": [
    {
     "data": {
      "text/plain": [
       "[{'frame_1': {'Background Animation': \"A suspenseful animation of a LEGO CITY set, with buildings, vehicles, and mini-figures coming to life in a dynamic, 3D environment. The animation is designed to captivate the viewer's attention and set the stage for the upcoming challenge.\",\n",
       "   'Tagline': \"'YOUR CITY, NO LIMITS' appears in bold, vibrant letters, reinforcing the campaign's theme of boundless creativity and adventure.\",\n",
       "   'Countdown Timer': \"A digital countdown timer, styled to resemble LEGO bricks, adds an element of suspense and anticipation, building up to the reveal of the 'ULTIMATE ESCAPE CHALLENGE'.\"},\n",
       "  'frame_2': {'Video Clips': \"A series of quick, exciting clips showcasing various challenges in the 'ULTIMATE ESCAPE CHALLENGE'. Each clip features different LEGO CITY sets and mini-figures, highlighting the diversity and expansiveness of the LEGO CITY universe.\",\n",
       "   'Swipe Indicator': 'A subtle, animated swipe indicator encourages viewers to interact with the ad and explore the different challenges.'},\n",
       "  'frame_3': {'Logo': 'The LEGO CITY 2024 logo, designed with the iconic LEGO brick pattern, reinforces brand recognition and ties the ad back to the product line.',\n",
       "   'CTA Button': \"A 'Play Now' button, styled to resemble a LEGO brick, invites users to join the challenge on the LEGO website. The button is strategically placed to be easily noticeable and accessible, encouraging viewers to take immediate action.\"},\n",
       "  'explanation': \"This variation aligns with the creative brief by effectively promoting the LEGO CITY 2024 product line and the 'ULTIMATE ESCAPE CHALLENGE'. The suspenseful animation and countdown timer in the first frame capture the viewer's attention and set the stage for the challenge. The quick, exciting clips in the second frame showcase the diversity and expansiveness of the LEGO CITY universe, appealing to the target audience's interest in games and challenges. The LEGO CITY 2024 logo and 'Play Now' button in the final frame reinforce brand recognition and drive traffic to the brand's website, achieving the campaign's objectives of enhancing audience engagement and increasing product and brand awareness.\"},\n",
       " {'frame_1': {'Background': 'A lively, animated cityscape made entirely of LEGO CITY sets. The cityscape should be filled with LEGO characters engaging in various activities, showcasing the fun and entertainment offered by the LEGO CITY universe.',\n",
       "   'Logo': 'The LEGO logo appears prominently at the center of the frame, reinforcing brand recognition.',\n",
       "   'Tagline': \"'YOUR CITY, NO LIMITS' appears in bold, colorful font, capturing the frame's message and the campaign's overarching theme.\",\n",
       "   'Interactive Element': \"A 'Tap to Begin' button, inviting viewers to interact with the ad.\"},\n",
       "  'frame_2': {'Background': \"A blank, grid-like canvas that serves as the foundation for the viewer's LEGO city.\",\n",
       "   'Toolbox': 'A toolbox filled with various LEGO CITY sets appears at the bottom of the screen. Each set should be clearly visible and identifiable, showcasing the product range.',\n",
       "   'Interactive Element': \"The 'Drag and Drop' feature, allowing viewers to select LEGO sets from the toolbox and place them onto the canvas.\"},\n",
       "  'frame_3': {'Background': \"The viewer's city, coming to life as they add LEGO sets. The city should be animated, with LEGO characters and vehicles moving around.\",\n",
       "   'Sound Effects': \"Sound effects that correspond to the viewer's actions, enhancing the immersive experience.\",\n",
       "   'Interactive Element': \"The 'Tap to Animate' feature, allowing viewers to animate their city by tapping on the LEGO sets.\"},\n",
       "  'frame_4': {'Background': \"The viewer's fully built and animated LEGO city.\",\n",
       "   'CTA': \"A 'Start Challenge' button that invites the viewer to start the 'ULTIMATE ESCAPE CHALLENGE', driving traffic to the brand's website.\",\n",
       "   'Interactive Element': \"The 'Tap to Start Challenge' feature, prompting viewers to interact with the ad and engage with the brand.\"},\n",
       "  'explanation': \"This variation aligns with the concept and brief by leveraging interactive elements and product imagery to engage the target audience and promote the LEGO CITY product line. The lively cityscape in Frame 1 captures the viewer's attention and sets the stage for the interactive experience. The toolbox in Frame 2 showcases the product range and allows viewers to engage with the ad by building their own city. The animations and sound effects in Frame 3 enhance the immersive experience and foster creativity, aligning with the brand's identity. The 'Start Challenge' button in Frame 4 drives traffic to the brand's website, achieving the campaign's objectives. The assets across frames work together to create a cohesive narrative that resonates with the target audience and promotes the LEGO CITY brand.\"},\n",
       " {'frame_1': {'Background': 'A vibrant, detailed image of a LEGO CITY set, showcasing key features like buildings, vehicles, and mini-figures',\n",
       "   'Interactive Element': \"'Choose Your Adventure' prompt, a large, colorful button placed strategically to draw attention\",\n",
       "   'Logo': 'LEGO logo placed subtly in the corner to reinforce brand recognition'},\n",
       "  'frame_2': {'Animation': 'A unique, engaging animation that brings the chosen part of the city to life, highlighting the fun and creativity of LEGO CITY',\n",
       "   'Interactive Element': 'Swipe functionality to allow users to navigate through the story',\n",
       "   'Text': \"Brief, compelling text that narrates the story and enhances the viewer's immersion\"},\n",
       "  'frame_3': {'CTA': \"'Continue the Adventure' button, designed to be eye-catching and compelling, prompting users to visit the LEGO website\",\n",
       "   'Ending Scene': 'A cliffhanger scene that leaves viewers eager to continue the adventure',\n",
       "   'Logo': 'LEGO logo, slightly more prominent to reinforce brand identity'},\n",
       "  'explanation': \"This variation aligns with the creative brief by leveraging the interactive storytelling concept to engage the target audience of boys aged 6-8. The detailed LEGO CITY set image in frame 1 captures viewers' attention and invites them to interact with the ad. The animation in frame 2 immerses viewers in the LEGO CITY universe, enhancing their engagement and increasing product awareness. The cliffhanger and CTA in frame 3 drive traffic to the LEGO website, contributing to the campaign's objectives. The consistent use of the LEGO logo across frames reinforces brand recognition.\"},\n",
       " {'frame_1': {'Background': \"A vibrant, bustling LEGO CITY, meticulously crafted with LEGO bricks, showcasing a bird's-eye view. The city is alive with miniature LEGO citizens, vehicles, and buildings, reflecting the brand's commitment to detail and creativity.\",\n",
       "   'Interactive Element': \"A 'Start Tour' button, designed in LEGO's signature bright colors, inviting users to tap and begin their exploration of the city.\",\n",
       "   'Logo': 'The LEGO logo, subtly placed in the corner to reinforce brand recognition without distracting from the city view.'},\n",
       "  'frame_2': {'Background': 'A first-person view of the LEGO CITY, immersing users in the cityscape. The city is filled with diverse LEGO buildings, each showcasing unique architectural designs and features.',\n",
       "   'Interactive Element': 'Swipe functionality, allowing users to navigate through the city. Tappable buildings, each revealing fun facts or trivia about the building when tapped, engaging users and enhancing their knowledge of LEGO CITY.',\n",
       "   'Text': 'Brief, engaging descriptions that pop up when a building is tapped, providing information about the building in a fun and educational manner.'},\n",
       "  'frame_3': {'Background': 'A final view of the LEGO CITY, with the cityscape subtly transitioning into the LEGO CITY 2024 logo.',\n",
       "   'Interactive Element': \"A 'Join the City' button, designed in LEGO's signature colors, directing users to the LEGO website.\",\n",
       "   'Logo': 'The LEGO CITY 2024 logo, prominently displayed to reinforce product awareness and brand recognition.'},\n",
       "  'explanation': \"This variation aligns with the 'City Tour' concept by providing an interactive tour of a LEGO CITY, engaging users and enhancing their knowledge of the product. The use of vibrant colors and detailed LEGO buildings reflects the brand's commitment to creativity and detail, appealing to the target demographic's interest in exploration and discovery. The interactive elements, such as the 'Start Tour' and 'Join the City' buttons and the tappable buildings, enhance audience engagement and drive traffic to the brand's website, achieving the campaign's objectives. The LEGO and LEGO CITY 2024 logos reinforce brand and product awareness, contributing to the campaign's success.\"},\n",
       " {'frame_1': {'Background': 'A vibrant, bustling LEGO CITY set, showcasing key features like the police station, fire station, and various vehicles',\n",
       "   'Foreground': \"A large, eye-catching 'Test Your Knowledge' prompt in LEGO's signature yellow and red colors\",\n",
       "   'Interactive Element': \"A 'Tap to Start' button, inviting users to engage with the ad\"},\n",
       "  'frame_2': {'Background': 'A series of LEGO CITY scenes related to the quiz questions',\n",
       "   'Foreground': 'Multiple-choice questions in playful, kid-friendly fonts',\n",
       "   'Interactive Element': 'Answer options that users can tap on to proceed'},\n",
       "  'frame_3': {'Background': 'A celebratory scene with LEGO characters cheering',\n",
       "   'Foreground': \"The user's score displayed in large, bold numbers\",\n",
       "   'Interactive Element': \"A 'Learn More' button, directing users to the LEGO website\"},\n",
       "  'explanation': \"This variation emphasizes the interactive and educational aspects of the LEGO CITY Quiz concept. The vibrant LEGO CITY set in the first frame captures the viewer's attention and sets the stage for the quiz. The multiple-choice questions in the second frame engage the viewer's curiosity and stimulate their knowledge about LEGO CITY. The celebratory scene in the third frame rewards the viewer's participation and encourages them to learn more about LEGO CITY on the brand's website. This variation aligns with the campaign's objectives of enhancing audience engagement, increasing product and brand awareness, and driving traffic to the brand's website.\"}]"
      ]
     },
     "execution_count": 6,
     "metadata": {},
     "output_type": "execute_result"
    }
   ],
   "source": [
    "df['asset_suggestions'][0]"
   ]
  },
  {
   "cell_type": "markdown",
   "metadata": {},
   "source": [
    "##  Counting occurrences of different asset categories"
   ]
  },
  {
   "cell_type": "code",
   "execution_count": 7,
   "metadata": {},
   "outputs": [],
   "source": [
    "from collections import defaultdict\n",
    "\n",
    "asset_categories = defaultdict(int)\n",
    "\n",
    "for suggestion in df['asset_suggestions']:\n",
    "    for frames in suggestion:\n",
    "        for frame in frames:\n",
    "            if type(frames[frame]) ==  dict:\n",
    "                for index in frames[frame].keys():\n",
    "                    asset_categories[index]+=1\n"
   ]
  },
  {
   "cell_type": "code",
   "execution_count": 8,
   "metadata": {},
   "outputs": [],
   "source": [
    "asset_categories = sorted(asset_categories.items(), reverse=True, key=lambda x:x[1])"
   ]
  },
  {
   "cell_type": "code",
   "execution_count": 9,
   "metadata": {},
   "outputs": [
    {
     "data": {
      "text/plain": [
       "[('Background', 530),\n",
       " ('Interactive Element', 340),\n",
       " ('Logo', 287),\n",
       " ('Product Image', 251),\n",
       " ('CTA', 231),\n",
       " ('Text', 184),\n",
       " ('Headline Text', 159),\n",
       " ('Background Image', 146),\n",
       " ('Brand Logo', 117),\n",
       " ('Text Overlay', 77),\n",
       " ('Foreground', 71),\n",
       " ('Animation', 61),\n",
       " ('CTA Button', 54),\n",
       " ('Interaction', 39),\n",
       " ('Engagement Text', 37),\n",
       " ('Engagement Visual', 33),\n",
       " ('Product Close-up', 28),\n",
       " ('Tagline', 26),\n",
       " ('Swipe Indicator', 25),\n",
       " ('CTA Text', 24),\n",
       " ('Interactive Elements', 24),\n",
       " ('Overlay Text', 21),\n",
       " ('Interactive Text', 18),\n",
       " ('Product Feature Highlight', 17),\n",
       " ('Background Animation', 16),\n",
       " ('Main Character', 16),\n",
       " ('Voiceover', 15),\n",
       " ('Product', 15),\n",
       " ('Main Visual', 15),\n",
       " ('Main Product', 15),\n",
       " ('Countdown Timer', 13),\n",
       " ('Video Clips', 13),\n",
       " ('Toolbox', 13),\n",
       " ('Sound Effects', 13),\n",
       " ('Ending Scene', 13),\n",
       " ('Animated Cat', 13),\n",
       " ('Product Highlight', 12),\n",
       " ('Special Offer', 12),\n",
       " ('Adludio Logo', 12),\n",
       " ('Interactive Prompt', 12),\n",
       " ('Image Gallery', 12),\n",
       " ('Main Focus', 12),\n",
       " ('Interactive Button', 11),\n",
       " ('Product Video', 10),\n",
       " ('Background Video', 10),\n",
       " ('Brand Element', 9),\n",
       " ('Foreground Text', 9),\n",
       " ('Creative Element', 9),\n",
       " ('Call-to-Action', 9),\n",
       " ('Product Images', 9),\n",
       " ('Character', 9),\n",
       " ('Feature Highlight Text', 9),\n",
       " ('CTA Image', 9),\n",
       " ('Nutritional Information', 9),\n",
       " ('SmartPack Image', 9),\n",
       " ('Product Feature', 9),\n",
       " ('Background Music', 7),\n",
       " ('Cityscape Background', 7),\n",
       " ('3D Globe', 6),\n",
       " ('Discover More Button', 6),\n",
       " ('Product Showcase', 6),\n",
       " ('Sound', 6),\n",
       " ('Question Text', 6),\n",
       " ('Text Element', 6),\n",
       " ('Swipe Feature', 6),\n",
       " ('Final Scene', 6),\n",
       " ('Closing Text', 6),\n",
       " ('Transition', 6),\n",
       " ('Animated Waves and Grass', 6),\n",
       " ('Scene Image', 6),\n",
       " ('Product Features', 6),\n",
       " ('Testimonial Quote', 6),\n",
       " ('Image', 6),\n",
       " ('Supporting Text', 6),\n",
       " ('SmartPack Product Image', 5),\n",
       " ('Book Now Button', 4),\n",
       " ('Product Range', 4),\n",
       " ('Product Feature Text', 4),\n",
       " ('Destination Highlight', 3),\n",
       " ('Travel Specialist', 3),\n",
       " ('Interactive Icons', 3),\n",
       " ('Destination Text', 3),\n",
       " ('Video', 3),\n",
       " ('Prompt', 3),\n",
       " ('Quiz Element', 3),\n",
       " ('Product Animation', 3),\n",
       " ('Animated Element', 3),\n",
       " ('Audio', 3),\n",
       " ('Interactive 360 View', 3),\n",
       " ('Product Placement', 3),\n",
       " ('Game Interface', 3),\n",
       " ('Celebration Animation', 3),\n",
       " ('Audio Element', 3),\n",
       " ('Brand Reinforcement', 3),\n",
       " ('Product Compatibility', 3),\n",
       " ('Final Image', 3),\n",
       " ('Choice Buttons', 3),\n",
       " ('Destination Reveal', 3),\n",
       " ('Destination Description', 3),\n",
       " ('Travel Specialist Character', 3),\n",
       " ('Insight Text', 3),\n",
       " ('Interactive Choices', 3),\n",
       " ('Summary Text', 3),\n",
       " ('Start Quiz Button', 3),\n",
       " ('Answer Buttons', 3),\n",
       " ('Progress Bar', 3),\n",
       " ('Destination Reveal Text', 3),\n",
       " ('Character Asset', 3),\n",
       " ('CTA Element', 3),\n",
       " ('Start Button', 3),\n",
       " ('360 View', 3),\n",
       " ('Brand Tagline', 3),\n",
       " ('Personalized Itinerary', 3),\n",
       " ('SmartPack', 3),\n",
       " ('Interactive SmartPack', 3),\n",
       " ('Color Transition', 3),\n",
       " ('Zoomed Compartments', 3),\n",
       " ('Animated Cityscape', 3),\n",
       " ('Interactive Menu', 3),\n",
       " ('Experience Description', 3),\n",
       " ('Carousel', 3),\n",
       " ('Animated Icons', 3),\n",
       " ('Ambient Sound', 3),\n",
       " ('Benefit Text', 3),\n",
       " ('Cat Image', 3),\n",
       " ('Cat Enjoying Meal', 3),\n",
       " ('Nutritional Benefits', 3),\n",
       " ('Interactive Transition', 3),\n",
       " ('Interactive Swipe', 3),\n",
       " ('Viewfinder Visual', 3),\n",
       " ('Focus', 3),\n",
       " ('Transitioning Backgrounds', 3),\n",
       " ('Text Overlays', 3),\n",
       " ('Shop Now CTA', 3),\n",
       " ('Information Text', 3),\n",
       " ('Animated Images', 3),\n",
       " ('Animated Sequence', 3),\n",
       " ('Final Product Image', 3),\n",
       " ('Quiz Elements', 3),\n",
       " ('Zoomed Image', 3),\n",
       " ('Animated Video', 3),\n",
       " ('Interactive Demonstration', 3),\n",
       " ('Transition Effect', 3),\n",
       " ('Portrait Shot', 3),\n",
       " ('Action Shot', 3),\n",
       " ('Controller Overlay', 3),\n",
       " ('Victory Animation', 3),\n",
       " ('Informational Text', 3),\n",
       " ('Reward Text', 3),\n",
       " ('Animated Map', 2),\n",
       " ('Cultural Elements', 2),\n",
       " ('Ambient Sounds', 2),\n",
       " ('Destination Journey', 2),\n",
       " ('SmartPack Open Image', 2),\n",
       " ('Character Images', 2),\n",
       " ('Swipeable Scenes', 2),\n",
       " ('Interactive Capture', 2),\n",
       " ('Image Carousel', 2),\n",
       " ('Interactive Video', 2),\n",
       " ('Animated Text', 2),\n",
       " ('Ambient Lighting', 2),\n",
       " ('Feature Highlight Image', 2),\n",
       " ('Product Features Video', 1),\n",
       " ('Product Features Animation', 1),\n",
       " ('Product Features Interactive Elements', 1),\n",
       " ('Country Zoom', 1),\n",
       " ('Product Integration', 1),\n",
       " ('Music Visualization', 1),\n",
       " ('Concert Scene', 1),\n",
       " ('Immersive Music', 1),\n",
       " ('Lighting Effects', 1),\n",
       " ('Behind-the-Scenes', 1),\n",
       " ('Call to Action', 1),\n",
       " ('Brand Presence', 1),\n",
       " ('Local Spotlight', 1),\n",
       " ('Branding Elements', 1),\n",
       " ('Audio Engagement', 1),\n",
       " ('Festival Atmosphere', 1),\n",
       " ('Sensory Overload', 1),\n",
       " ('Colorful Imagery', 1),\n",
       " ('Artistic Collaboration', 1),\n",
       " ('Interactive Invitation', 1),\n",
       " ('Cultural Showcase', 1),\n",
       " ('Interactive Map', 1),\n",
       " ('Engagement Trigger', 1),\n",
       " ('Logo Integration', 1),\n",
       " ('Cultural Immersion', 1),\n",
       " ('Seamless Branding', 1),\n",
       " ('Auditory Connection', 1),\n",
       " ('Live Concert Vibe', 1),\n",
       " ('Rhythmic Engagement', 1),\n",
       " ('Vibrant Visuals', 1),\n",
       " ('Creative Synergy', 1),\n",
       " ('Discovery Element', 1),\n",
       " ('Diversity Highlight', 1),\n",
       " ('Interaction Prompt', 1),\n",
       " ('Music Integration', 1),\n",
       " ('CTA Design', 1),\n",
       " ('CTA Interaction', 1),\n",
       " ('Visual Effects', 1),\n",
       " ('Audio Visual Sync', 1),\n",
       " ('CTA Placement', 1),\n",
       " ('Rotating Globe', 1),\n",
       " ('Prompt Text', 1),\n",
       " ('Zoomed Destination', 1),\n",
       " ('Invitation Text', 1),\n",
       " ('Interactive Globe', 1),\n",
       " ('Instructional Text', 1),\n",
       " ('Destination Montage', 1),\n",
       " ('Persuasive Text', 1),\n",
       " ('Animated Globe', 1),\n",
       " ('Destination Showcase', 1),\n",
       " ('Cultural Music', 1),\n",
       " ('Action Button', 1),\n",
       " ('Motivational Text', 1),\n",
       " ('Destination Visuals', 1),\n",
       " ('Food Bowl', 1),\n",
       " ('Urban Background', 1),\n",
       " ('SmartPack Interior Image', 1),\n",
       " ('Character Videos', 1),\n",
       " ('SmartPack Product Video', 1),\n",
       " ('Campus Background', 1),\n",
       " ('Interactive Scenes', 1),\n",
       " ('Swipeable Element', 1),\n",
       " ('Tap-to-Capture', 1),\n",
       " ('Testimonial', 1),\n",
       " ('Hotspots', 1),\n",
       " ('Close-up Image', 1),\n",
       " ('Interactive Animation', 1),\n",
       " ('Runway Video', 1),\n",
       " ('Lifestyle Video', 1),\n",
       " ('Interactive Gallery', 1),\n",
       " ('Caption', 1),\n",
       " ('Fade-out Effect', 1),\n",
       " ('Fast-paced Game Scenes', 1),\n",
       " ('Spotlight Effect', 1),\n",
       " ('Dynamic Game Scenes', 1),\n",
       " ('Intense Game Scenes', 1),\n",
       " ('360-degree View Video', 1),\n",
       " ('Interactive 3D Model', 1),\n",
       " ('Feature Highlight Video', 1)]"
      ]
     },
     "execution_count": 9,
     "metadata": {},
     "output_type": "execute_result"
    }
   ],
   "source": [
    "asset_categories"
   ]
  },
  {
   "cell_type": "markdown",
   "metadata": {},
   "source": [
    "# Listing the top 10 categories based on occurrence"
   ]
  },
  {
   "cell_type": "code",
   "execution_count": 10,
   "metadata": {},
   "outputs": [
    {
     "name": "stdout",
     "output_type": "stream",
     "text": [
      "('Background', 530)\n",
      "('Interactive Element', 340)\n",
      "('Logo', 287)\n",
      "('Product Image', 251)\n",
      "('CTA', 231)\n",
      "('Text', 184)\n",
      "('Headline Text', 159)\n",
      "('Background Image', 146)\n",
      "('Brand Logo', 117)\n",
      "('Text Overlay', 77)\n"
     ]
    }
   ],
   "source": [
    "top10_asset_categories = asset_categories[:10]\n",
    "\n",
    "for category in top10_asset_categories:\n",
    "    print(category)"
   ]
  },
  {
   "cell_type": "markdown",
   "metadata": {},
   "source": [
    "## Plot of the top 10 categories"
   ]
  },
  {
   "cell_type": "code",
   "execution_count": 11,
   "metadata": {},
   "outputs": [
    {
     "data": {
      "text/plain": [
       "<Figure size 1000x600 with 0 Axes>"
      ]
     },
     "metadata": {},
     "output_type": "display_data"
    },
    {
     "data": {
      "image/png": "[encoded data removed]",
      "text/plain": [
       "<Figure size 640x480 with 1 Axes>"
      ]
     },
     "metadata": {},
     "output_type": "display_data"
    }
   ],
   "source": [
    "plt.figure(figsize=(10,6))\n",
    "\n",
    "top_10_asset_categories = asset_categories[:10]\n",
    "\n",
    "data = pd.DataFrame(top_10_asset_categories, columns=['Asset Category', 'Counts'])\n",
    "\n",
    "# Plot the data\n",
    "data.plot(kind='bar', x='Asset Category', y='Counts', legend=False, color='skyblue')\n",
    "\n",
    "# Add title and labels\n",
    "plt.title('Top 10 Asset Category')\n",
    "plt.xlabel('Asset Category')\n",
    "plt.ylabel('Counts')\n",
    "plt.xticks(rotation=45, ha='right')\n",
    "\n",
    "# Show plot\n",
    "plt.tight_layout()\n",
    "plt.show()"
   ]
  }
 ],
 "metadata": {
  "kernelspec": {
   "display_name": "venv",
   "language": "python",
   "name": "python3"
  },
  "language_info": {
   "codemirror_mode": {
    "name": "ipython",
    "version": 3
   },
   "file_extension": ".py",
   "mimetype": "text/x-python",
   "name": "python",
   "nbconvert_exporter": "python",
   "pygments_lexer": "ipython3",
   "version": "3.8.10"
  }
 },
 "nbformat": 4,
 "nbformat_minor": 2
}
